{
  "nbformat": 4,
  "nbformat_minor": 0,
  "metadata": {
    "colab": {
      "name": "Factor Analysis.ipynb",
      "provenance": [],
      "collapsed_sections": []
    },
    "kernelspec": {
      "name": "python3",
      "display_name": "Python 3"
    }
  },
  "cells": [
    {
      "cell_type": "code",
      "metadata": {
        "id": "4YOZgeiZEPRK",
        "colab_type": "code",
        "colab": {
          "base_uri": "https://localhost:8080/",
          "height": 349
        },
        "outputId": "8725c260-dc09-4cb1-943b-6be78d06fe41"
      },
      "source": [
        "pip install factor_analyzer"
      ],
      "execution_count": null,
      "outputs": [
        {
          "output_type": "stream",
          "text": [
            "Collecting factor_analyzer\n",
            "\u001b[?25l  Downloading https://files.pythonhosted.org/packages/44/b5/cbd83484ca6dd4c6562c6d66a6a3a0ecf526e79b2b575b9fb4bf5ad172dd/factor_analyzer-0.3.2.tar.gz (40kB)\n",
            "\r\u001b[K     |████████▏                       | 10kB 17.7MB/s eta 0:00:01\r\u001b[K     |████████████████▍               | 20kB 1.7MB/s eta 0:00:01\r\u001b[K     |████████████████████████▌       | 30kB 2.2MB/s eta 0:00:01\r\u001b[K     |████████████████████████████████| 40kB 1.8MB/s \n",
            "\u001b[?25hRequirement already satisfied: pandas in /usr/local/lib/python3.6/dist-packages (from factor_analyzer) (1.0.5)\n",
            "Requirement already satisfied: scipy in /usr/local/lib/python3.6/dist-packages (from factor_analyzer) (1.4.1)\n",
            "Requirement already satisfied: numpy in /usr/local/lib/python3.6/dist-packages (from factor_analyzer) (1.18.5)\n",
            "Requirement already satisfied: scikit-learn in /usr/local/lib/python3.6/dist-packages (from factor_analyzer) (0.22.2.post1)\n",
            "Requirement already satisfied: python-dateutil>=2.6.1 in /usr/local/lib/python3.6/dist-packages (from pandas->factor_analyzer) (2.8.1)\n",
            "Requirement already satisfied: pytz>=2017.2 in /usr/local/lib/python3.6/dist-packages (from pandas->factor_analyzer) (2018.9)\n",
            "Requirement already satisfied: joblib>=0.11 in /usr/local/lib/python3.6/dist-packages (from scikit-learn->factor_analyzer) (0.16.0)\n",
            "Requirement already satisfied: six>=1.5 in /usr/local/lib/python3.6/dist-packages (from python-dateutil>=2.6.1->pandas->factor_analyzer) (1.12.0)\n",
            "Building wheels for collected packages: factor-analyzer\n",
            "  Building wheel for factor-analyzer (setup.py) ... \u001b[?25l\u001b[?25hdone\n",
            "  Created wheel for factor-analyzer: filename=factor_analyzer-0.3.2-cp36-none-any.whl size=40380 sha256=d141423096b577f8c5ef30aca56946335a610011f0284e6a55eedb1c21117d43\n",
            "  Stored in directory: /root/.cache/pip/wheels/4a/d0/57/f1330cb9c80e82d8d05391c74c94ed61ce3f03bf6157f3d6db\n",
            "Successfully built factor-analyzer\n",
            "Installing collected packages: factor-analyzer\n",
            "Successfully installed factor-analyzer-0.3.2\n"
          ],
          "name": "stdout"
        }
      ]
    },
    {
      "cell_type": "code",
      "metadata": {
        "id": "ARlDCboSDzvw",
        "colab_type": "code",
        "colab": {}
      },
      "source": [
        "import pandas as pd\n",
        "import matplotlib.pyplot as plt\n",
        "import sklearn.datasets\n",
        "from factor_analyzer import FactorAnalyzer"
      ],
      "execution_count": null,
      "outputs": []
    },
    {
      "cell_type": "code",
      "metadata": {
        "id": "Gc2xYRRtEtxA",
        "colab_type": "code",
        "colab": {}
      },
      "source": [
        "df = pd.read_csv(\"bfi.csv\",index_col=0,header=0)"
      ],
      "execution_count": null,
      "outputs": []
    },
    {
      "cell_type": "code",
      "metadata": {
        "id": "4vlj3Pg7E_rQ",
        "colab_type": "code",
        "colab": {
          "base_uri": "https://localhost:8080/",
          "height": 202
        },
        "outputId": "de193ca9-483c-4868-b69f-8ab3fd257a44"
      },
      "source": [
        "df.head()"
      ],
      "execution_count": null,
      "outputs": [
        {
          "output_type": "execute_result",
          "data": {
            "text/html": [
              "<div>\n",
              "<style scoped>\n",
              "    .dataframe tbody tr th:only-of-type {\n",
              "        vertical-align: middle;\n",
              "    }\n",
              "\n",
              "    .dataframe tbody tr th {\n",
              "        vertical-align: top;\n",
              "    }\n",
              "\n",
              "    .dataframe thead th {\n",
              "        text-align: right;\n",
              "    }\n",
              "</style>\n",
              "<table border=\"1\" class=\"dataframe\">\n",
              "  <thead>\n",
              "    <tr style=\"text-align: right;\">\n",
              "      <th></th>\n",
              "      <th>A1</th>\n",
              "      <th>A2</th>\n",
              "      <th>A3</th>\n",
              "      <th>A4</th>\n",
              "      <th>A5</th>\n",
              "      <th>C1</th>\n",
              "      <th>C2</th>\n",
              "      <th>C3</th>\n",
              "      <th>C4</th>\n",
              "      <th>C5</th>\n",
              "      <th>E1</th>\n",
              "      <th>E2</th>\n",
              "      <th>E3</th>\n",
              "      <th>E4</th>\n",
              "      <th>E5</th>\n",
              "      <th>N1</th>\n",
              "      <th>N2</th>\n",
              "      <th>N3</th>\n",
              "      <th>N4</th>\n",
              "      <th>N5</th>\n",
              "      <th>O1</th>\n",
              "      <th>O2</th>\n",
              "      <th>O3</th>\n",
              "      <th>O4</th>\n",
              "      <th>O5</th>\n",
              "      <th>gender</th>\n",
              "      <th>education</th>\n",
              "      <th>age</th>\n",
              "    </tr>\n",
              "  </thead>\n",
              "  <tbody>\n",
              "    <tr>\n",
              "      <th>61617</th>\n",
              "      <td>2.0</td>\n",
              "      <td>4.0</td>\n",
              "      <td>3.0</td>\n",
              "      <td>4.0</td>\n",
              "      <td>4.0</td>\n",
              "      <td>2.0</td>\n",
              "      <td>3.0</td>\n",
              "      <td>3.0</td>\n",
              "      <td>4.0</td>\n",
              "      <td>4.0</td>\n",
              "      <td>3.0</td>\n",
              "      <td>3.0</td>\n",
              "      <td>3.0</td>\n",
              "      <td>4.0</td>\n",
              "      <td>4.0</td>\n",
              "      <td>3.0</td>\n",
              "      <td>4.0</td>\n",
              "      <td>2.0</td>\n",
              "      <td>2.0</td>\n",
              "      <td>3.0</td>\n",
              "      <td>3.0</td>\n",
              "      <td>6</td>\n",
              "      <td>3.0</td>\n",
              "      <td>4.0</td>\n",
              "      <td>3.0</td>\n",
              "      <td>1</td>\n",
              "      <td>NaN</td>\n",
              "      <td>16</td>\n",
              "    </tr>\n",
              "    <tr>\n",
              "      <th>61618</th>\n",
              "      <td>2.0</td>\n",
              "      <td>4.0</td>\n",
              "      <td>5.0</td>\n",
              "      <td>2.0</td>\n",
              "      <td>5.0</td>\n",
              "      <td>5.0</td>\n",
              "      <td>4.0</td>\n",
              "      <td>4.0</td>\n",
              "      <td>3.0</td>\n",
              "      <td>4.0</td>\n",
              "      <td>1.0</td>\n",
              "      <td>1.0</td>\n",
              "      <td>6.0</td>\n",
              "      <td>4.0</td>\n",
              "      <td>3.0</td>\n",
              "      <td>3.0</td>\n",
              "      <td>3.0</td>\n",
              "      <td>3.0</td>\n",
              "      <td>5.0</td>\n",
              "      <td>5.0</td>\n",
              "      <td>4.0</td>\n",
              "      <td>2</td>\n",
              "      <td>4.0</td>\n",
              "      <td>3.0</td>\n",
              "      <td>3.0</td>\n",
              "      <td>2</td>\n",
              "      <td>NaN</td>\n",
              "      <td>18</td>\n",
              "    </tr>\n",
              "    <tr>\n",
              "      <th>61620</th>\n",
              "      <td>5.0</td>\n",
              "      <td>4.0</td>\n",
              "      <td>5.0</td>\n",
              "      <td>4.0</td>\n",
              "      <td>4.0</td>\n",
              "      <td>4.0</td>\n",
              "      <td>5.0</td>\n",
              "      <td>4.0</td>\n",
              "      <td>2.0</td>\n",
              "      <td>5.0</td>\n",
              "      <td>2.0</td>\n",
              "      <td>4.0</td>\n",
              "      <td>4.0</td>\n",
              "      <td>4.0</td>\n",
              "      <td>5.0</td>\n",
              "      <td>4.0</td>\n",
              "      <td>5.0</td>\n",
              "      <td>4.0</td>\n",
              "      <td>2.0</td>\n",
              "      <td>3.0</td>\n",
              "      <td>4.0</td>\n",
              "      <td>2</td>\n",
              "      <td>5.0</td>\n",
              "      <td>5.0</td>\n",
              "      <td>2.0</td>\n",
              "      <td>2</td>\n",
              "      <td>NaN</td>\n",
              "      <td>17</td>\n",
              "    </tr>\n",
              "    <tr>\n",
              "      <th>61621</th>\n",
              "      <td>4.0</td>\n",
              "      <td>4.0</td>\n",
              "      <td>6.0</td>\n",
              "      <td>5.0</td>\n",
              "      <td>5.0</td>\n",
              "      <td>4.0</td>\n",
              "      <td>4.0</td>\n",
              "      <td>3.0</td>\n",
              "      <td>5.0</td>\n",
              "      <td>5.0</td>\n",
              "      <td>5.0</td>\n",
              "      <td>3.0</td>\n",
              "      <td>4.0</td>\n",
              "      <td>4.0</td>\n",
              "      <td>4.0</td>\n",
              "      <td>2.0</td>\n",
              "      <td>5.0</td>\n",
              "      <td>2.0</td>\n",
              "      <td>4.0</td>\n",
              "      <td>1.0</td>\n",
              "      <td>3.0</td>\n",
              "      <td>3</td>\n",
              "      <td>4.0</td>\n",
              "      <td>3.0</td>\n",
              "      <td>5.0</td>\n",
              "      <td>2</td>\n",
              "      <td>NaN</td>\n",
              "      <td>17</td>\n",
              "    </tr>\n",
              "    <tr>\n",
              "      <th>61622</th>\n",
              "      <td>2.0</td>\n",
              "      <td>3.0</td>\n",
              "      <td>3.0</td>\n",
              "      <td>4.0</td>\n",
              "      <td>5.0</td>\n",
              "      <td>4.0</td>\n",
              "      <td>4.0</td>\n",
              "      <td>5.0</td>\n",
              "      <td>3.0</td>\n",
              "      <td>2.0</td>\n",
              "      <td>2.0</td>\n",
              "      <td>2.0</td>\n",
              "      <td>5.0</td>\n",
              "      <td>4.0</td>\n",
              "      <td>5.0</td>\n",
              "      <td>2.0</td>\n",
              "      <td>3.0</td>\n",
              "      <td>4.0</td>\n",
              "      <td>4.0</td>\n",
              "      <td>3.0</td>\n",
              "      <td>3.0</td>\n",
              "      <td>3</td>\n",
              "      <td>4.0</td>\n",
              "      <td>3.0</td>\n",
              "      <td>3.0</td>\n",
              "      <td>1</td>\n",
              "      <td>NaN</td>\n",
              "      <td>17</td>\n",
              "    </tr>\n",
              "  </tbody>\n",
              "</table>\n",
              "</div>"
            ],
            "text/plain": [
              "        A1   A2   A3   A4   A5   C1  ...   O3   O4   O5  gender  education  age\n",
              "61617  2.0  4.0  3.0  4.0  4.0  2.0  ...  3.0  4.0  3.0       1        NaN   16\n",
              "61618  2.0  4.0  5.0  2.0  5.0  5.0  ...  4.0  3.0  3.0       2        NaN   18\n",
              "61620  5.0  4.0  5.0  4.0  4.0  4.0  ...  5.0  5.0  2.0       2        NaN   17\n",
              "61621  4.0  4.0  6.0  5.0  5.0  4.0  ...  4.0  3.0  5.0       2        NaN   17\n",
              "61622  2.0  3.0  3.0  4.0  5.0  4.0  ...  4.0  3.0  3.0       1        NaN   17\n",
              "\n",
              "[5 rows x 28 columns]"
            ]
          },
          "metadata": {
            "tags": []
          },
          "execution_count": 19
        }
      ]
    },
    {
      "cell_type": "code",
      "metadata": {
        "id": "SLAyw8TSFFve",
        "colab_type": "code",
        "colab": {}
      },
      "source": [
        "df.drop(['gender','education','age'],axis=1,inplace=True)"
      ],
      "execution_count": null,
      "outputs": []
    },
    {
      "cell_type": "code",
      "metadata": {
        "id": "h2sviHSzFiir",
        "colab_type": "code",
        "colab": {
          "base_uri": "https://localhost:8080/",
          "height": 202
        },
        "outputId": "c8f57921-7440-40b6-9614-b03c88798413"
      },
      "source": [
        "df.head()"
      ],
      "execution_count": null,
      "outputs": [
        {
          "output_type": "execute_result",
          "data": {
            "text/html": [
              "<div>\n",
              "<style scoped>\n",
              "    .dataframe tbody tr th:only-of-type {\n",
              "        vertical-align: middle;\n",
              "    }\n",
              "\n",
              "    .dataframe tbody tr th {\n",
              "        vertical-align: top;\n",
              "    }\n",
              "\n",
              "    .dataframe thead th {\n",
              "        text-align: right;\n",
              "    }\n",
              "</style>\n",
              "<table border=\"1\" class=\"dataframe\">\n",
              "  <thead>\n",
              "    <tr style=\"text-align: right;\">\n",
              "      <th></th>\n",
              "      <th>A1</th>\n",
              "      <th>A2</th>\n",
              "      <th>A3</th>\n",
              "      <th>A4</th>\n",
              "      <th>A5</th>\n",
              "      <th>C1</th>\n",
              "      <th>C2</th>\n",
              "      <th>C3</th>\n",
              "      <th>C4</th>\n",
              "      <th>C5</th>\n",
              "      <th>E1</th>\n",
              "      <th>E2</th>\n",
              "      <th>E3</th>\n",
              "      <th>E4</th>\n",
              "      <th>E5</th>\n",
              "      <th>N1</th>\n",
              "      <th>N2</th>\n",
              "      <th>N3</th>\n",
              "      <th>N4</th>\n",
              "      <th>N5</th>\n",
              "      <th>O1</th>\n",
              "      <th>O2</th>\n",
              "      <th>O3</th>\n",
              "      <th>O4</th>\n",
              "      <th>O5</th>\n",
              "    </tr>\n",
              "  </thead>\n",
              "  <tbody>\n",
              "    <tr>\n",
              "      <th>61617</th>\n",
              "      <td>2.0</td>\n",
              "      <td>4.0</td>\n",
              "      <td>3.0</td>\n",
              "      <td>4.0</td>\n",
              "      <td>4.0</td>\n",
              "      <td>2.0</td>\n",
              "      <td>3.0</td>\n",
              "      <td>3.0</td>\n",
              "      <td>4.0</td>\n",
              "      <td>4.0</td>\n",
              "      <td>3.0</td>\n",
              "      <td>3.0</td>\n",
              "      <td>3.0</td>\n",
              "      <td>4.0</td>\n",
              "      <td>4.0</td>\n",
              "      <td>3.0</td>\n",
              "      <td>4.0</td>\n",
              "      <td>2.0</td>\n",
              "      <td>2.0</td>\n",
              "      <td>3.0</td>\n",
              "      <td>3.0</td>\n",
              "      <td>6</td>\n",
              "      <td>3.0</td>\n",
              "      <td>4.0</td>\n",
              "      <td>3.0</td>\n",
              "    </tr>\n",
              "    <tr>\n",
              "      <th>61618</th>\n",
              "      <td>2.0</td>\n",
              "      <td>4.0</td>\n",
              "      <td>5.0</td>\n",
              "      <td>2.0</td>\n",
              "      <td>5.0</td>\n",
              "      <td>5.0</td>\n",
              "      <td>4.0</td>\n",
              "      <td>4.0</td>\n",
              "      <td>3.0</td>\n",
              "      <td>4.0</td>\n",
              "      <td>1.0</td>\n",
              "      <td>1.0</td>\n",
              "      <td>6.0</td>\n",
              "      <td>4.0</td>\n",
              "      <td>3.0</td>\n",
              "      <td>3.0</td>\n",
              "      <td>3.0</td>\n",
              "      <td>3.0</td>\n",
              "      <td>5.0</td>\n",
              "      <td>5.0</td>\n",
              "      <td>4.0</td>\n",
              "      <td>2</td>\n",
              "      <td>4.0</td>\n",
              "      <td>3.0</td>\n",
              "      <td>3.0</td>\n",
              "    </tr>\n",
              "    <tr>\n",
              "      <th>61620</th>\n",
              "      <td>5.0</td>\n",
              "      <td>4.0</td>\n",
              "      <td>5.0</td>\n",
              "      <td>4.0</td>\n",
              "      <td>4.0</td>\n",
              "      <td>4.0</td>\n",
              "      <td>5.0</td>\n",
              "      <td>4.0</td>\n",
              "      <td>2.0</td>\n",
              "      <td>5.0</td>\n",
              "      <td>2.0</td>\n",
              "      <td>4.0</td>\n",
              "      <td>4.0</td>\n",
              "      <td>4.0</td>\n",
              "      <td>5.0</td>\n",
              "      <td>4.0</td>\n",
              "      <td>5.0</td>\n",
              "      <td>4.0</td>\n",
              "      <td>2.0</td>\n",
              "      <td>3.0</td>\n",
              "      <td>4.0</td>\n",
              "      <td>2</td>\n",
              "      <td>5.0</td>\n",
              "      <td>5.0</td>\n",
              "      <td>2.0</td>\n",
              "    </tr>\n",
              "    <tr>\n",
              "      <th>61621</th>\n",
              "      <td>4.0</td>\n",
              "      <td>4.0</td>\n",
              "      <td>6.0</td>\n",
              "      <td>5.0</td>\n",
              "      <td>5.0</td>\n",
              "      <td>4.0</td>\n",
              "      <td>4.0</td>\n",
              "      <td>3.0</td>\n",
              "      <td>5.0</td>\n",
              "      <td>5.0</td>\n",
              "      <td>5.0</td>\n",
              "      <td>3.0</td>\n",
              "      <td>4.0</td>\n",
              "      <td>4.0</td>\n",
              "      <td>4.0</td>\n",
              "      <td>2.0</td>\n",
              "      <td>5.0</td>\n",
              "      <td>2.0</td>\n",
              "      <td>4.0</td>\n",
              "      <td>1.0</td>\n",
              "      <td>3.0</td>\n",
              "      <td>3</td>\n",
              "      <td>4.0</td>\n",
              "      <td>3.0</td>\n",
              "      <td>5.0</td>\n",
              "    </tr>\n",
              "    <tr>\n",
              "      <th>61622</th>\n",
              "      <td>2.0</td>\n",
              "      <td>3.0</td>\n",
              "      <td>3.0</td>\n",
              "      <td>4.0</td>\n",
              "      <td>5.0</td>\n",
              "      <td>4.0</td>\n",
              "      <td>4.0</td>\n",
              "      <td>5.0</td>\n",
              "      <td>3.0</td>\n",
              "      <td>2.0</td>\n",
              "      <td>2.0</td>\n",
              "      <td>2.0</td>\n",
              "      <td>5.0</td>\n",
              "      <td>4.0</td>\n",
              "      <td>5.0</td>\n",
              "      <td>2.0</td>\n",
              "      <td>3.0</td>\n",
              "      <td>4.0</td>\n",
              "      <td>4.0</td>\n",
              "      <td>3.0</td>\n",
              "      <td>3.0</td>\n",
              "      <td>3</td>\n",
              "      <td>4.0</td>\n",
              "      <td>3.0</td>\n",
              "      <td>3.0</td>\n",
              "    </tr>\n",
              "  </tbody>\n",
              "</table>\n",
              "</div>"
            ],
            "text/plain": [
              "        A1   A2   A3   A4   A5   C1   C2  ...   N4   N5   O1  O2   O3   O4   O5\n",
              "61617  2.0  4.0  3.0  4.0  4.0  2.0  3.0  ...  2.0  3.0  3.0   6  3.0  4.0  3.0\n",
              "61618  2.0  4.0  5.0  2.0  5.0  5.0  4.0  ...  5.0  5.0  4.0   2  4.0  3.0  3.0\n",
              "61620  5.0  4.0  5.0  4.0  4.0  4.0  5.0  ...  2.0  3.0  4.0   2  5.0  5.0  2.0\n",
              "61621  4.0  4.0  6.0  5.0  5.0  4.0  4.0  ...  4.0  1.0  3.0   3  4.0  3.0  5.0\n",
              "61622  2.0  3.0  3.0  4.0  5.0  4.0  4.0  ...  4.0  3.0  3.0   3  4.0  3.0  3.0\n",
              "\n",
              "[5 rows x 25 columns]"
            ]
          },
          "metadata": {
            "tags": []
          },
          "execution_count": 21
        }
      ]
    },
    {
      "cell_type": "code",
      "metadata": {
        "id": "L6Rn0Cj3Fjre",
        "colab_type": "code",
        "colab": {
          "base_uri": "https://localhost:8080/",
          "height": 572
        },
        "outputId": "cf3bddf2-b107-49bf-b266-4ebaa0d2a941"
      },
      "source": [
        "df.info()"
      ],
      "execution_count": null,
      "outputs": [
        {
          "output_type": "stream",
          "text": [
            "<class 'pandas.core.frame.DataFrame'>\n",
            "Int64Index: 2800 entries, 61617 to 67560\n",
            "Data columns (total 25 columns):\n",
            " #   Column  Non-Null Count  Dtype  \n",
            "---  ------  --------------  -----  \n",
            " 0   A1      2784 non-null   float64\n",
            " 1   A2      2773 non-null   float64\n",
            " 2   A3      2774 non-null   float64\n",
            " 3   A4      2781 non-null   float64\n",
            " 4   A5      2784 non-null   float64\n",
            " 5   C1      2779 non-null   float64\n",
            " 6   C2      2776 non-null   float64\n",
            " 7   C3      2780 non-null   float64\n",
            " 8   C4      2774 non-null   float64\n",
            " 9   C5      2784 non-null   float64\n",
            " 10  E1      2777 non-null   float64\n",
            " 11  E2      2784 non-null   float64\n",
            " 12  E3      2775 non-null   float64\n",
            " 13  E4      2791 non-null   float64\n",
            " 14  E5      2779 non-null   float64\n",
            " 15  N1      2778 non-null   float64\n",
            " 16  N2      2779 non-null   float64\n",
            " 17  N3      2789 non-null   float64\n",
            " 18  N4      2764 non-null   float64\n",
            " 19  N5      2771 non-null   float64\n",
            " 20  O1      2778 non-null   float64\n",
            " 21  O2      2800 non-null   int64  \n",
            " 22  O3      2772 non-null   float64\n",
            " 23  O4      2786 non-null   float64\n",
            " 24  O5      2780 non-null   float64\n",
            "dtypes: float64(24), int64(1)\n",
            "memory usage: 568.8 KB\n"
          ],
          "name": "stdout"
        }
      ]
    },
    {
      "cell_type": "code",
      "metadata": {
        "id": "2BJ03eOuFnbd",
        "colab_type": "code",
        "colab": {}
      },
      "source": [
        "df = df.iloc[0:,1:26]"
      ],
      "execution_count": null,
      "outputs": []
    },
    {
      "cell_type": "code",
      "metadata": {
        "id": "fTkYvm7jGlvY",
        "colab_type": "code",
        "colab": {}
      },
      "source": [
        "df = df.dropna()"
      ],
      "execution_count": null,
      "outputs": []
    },
    {
      "cell_type": "code",
      "metadata": {
        "id": "Sd-rQ2Y-F5Gb",
        "colab_type": "code",
        "colab": {}
      },
      "source": [
        "  fa = FactorAnalyzer(n_factors=6,rotation='varimax')"
      ],
      "execution_count": null,
      "outputs": []
    },
    {
      "cell_type": "code",
      "metadata": {
        "id": "sAgGWZhEGpvb",
        "colab_type": "code",
        "colab": {
          "base_uri": "https://localhost:8080/",
          "height": 69
        },
        "outputId": "af5c3b93-f6d4-464b-b8de-06ecbd8a1308"
      },
      "source": [
        "fa.fit(df)"
      ],
      "execution_count": null,
      "outputs": [
        {
          "output_type": "execute_result",
          "data": {
            "text/plain": [
              "FactorAnalyzer(bounds=(0.005, 1), impute='median', is_corr_matrix=False,\n",
              "               method='minres', n_factors=6, rotation='varimax',\n",
              "               rotation_kwargs={}, use_smc=True)"
            ]
          },
          "metadata": {
            "tags": []
          },
          "execution_count": 43
        }
      ]
    },
    {
      "cell_type": "code",
      "metadata": {
        "id": "EAc_aEgnGwV8",
        "colab_type": "code",
        "colab": {
          "base_uri": "https://localhost:8080/",
          "height": 785
        },
        "outputId": "b0d7f331-f589-4845-f74e-984bac3b3dc3"
      },
      "source": [
        "pd.DataFrame(fa.loadings_)"
      ],
      "execution_count": null,
      "outputs": [
        {
          "output_type": "execute_result",
          "data": {
            "text/html": [
              "<div>\n",
              "<style scoped>\n",
              "    .dataframe tbody tr th:only-of-type {\n",
              "        vertical-align: middle;\n",
              "    }\n",
              "\n",
              "    .dataframe tbody tr th {\n",
              "        vertical-align: top;\n",
              "    }\n",
              "\n",
              "    .dataframe thead th {\n",
              "        text-align: right;\n",
              "    }\n",
              "</style>\n",
              "<table border=\"1\" class=\"dataframe\">\n",
              "  <thead>\n",
              "    <tr style=\"text-align: right;\">\n",
              "      <th></th>\n",
              "      <th>0</th>\n",
              "      <th>1</th>\n",
              "      <th>2</th>\n",
              "      <th>3</th>\n",
              "      <th>4</th>\n",
              "      <th>5</th>\n",
              "    </tr>\n",
              "  </thead>\n",
              "  <tbody>\n",
              "    <tr>\n",
              "      <th>0</th>\n",
              "      <td>0.019593</td>\n",
              "      <td>0.129682</td>\n",
              "      <td>0.109792</td>\n",
              "      <td>0.648858</td>\n",
              "      <td>0.093491</td>\n",
              "      <td>-0.084924</td>\n",
              "    </tr>\n",
              "    <tr>\n",
              "      <th>1</th>\n",
              "      <td>-0.017662</td>\n",
              "      <td>0.203330</td>\n",
              "      <td>0.082358</td>\n",
              "      <td>0.705688</td>\n",
              "      <td>0.076944</td>\n",
              "      <td>0.032217</td>\n",
              "    </tr>\n",
              "    <tr>\n",
              "      <th>2</th>\n",
              "      <td>-0.084078</td>\n",
              "      <td>0.126836</td>\n",
              "      <td>0.209346</td>\n",
              "      <td>0.479331</td>\n",
              "      <td>-0.096146</td>\n",
              "      <td>-0.005851</td>\n",
              "    </tr>\n",
              "    <tr>\n",
              "      <th>3</th>\n",
              "      <td>-0.155395</td>\n",
              "      <td>0.292209</td>\n",
              "      <td>0.076372</td>\n",
              "      <td>0.589693</td>\n",
              "      <td>0.068895</td>\n",
              "      <td>0.145131</td>\n",
              "    </tr>\n",
              "    <tr>\n",
              "      <th>4</th>\n",
              "      <td>-0.004557</td>\n",
              "      <td>0.060016</td>\n",
              "      <td>0.559406</td>\n",
              "      <td>0.047516</td>\n",
              "      <td>0.190223</td>\n",
              "      <td>0.111183</td>\n",
              "    </tr>\n",
              "    <tr>\n",
              "      <th>5</th>\n",
              "      <td>0.065548</td>\n",
              "      <td>0.005585</td>\n",
              "      <td>0.676102</td>\n",
              "      <td>0.112069</td>\n",
              "      <td>0.085346</td>\n",
              "      <td>0.156104</td>\n",
              "    </tr>\n",
              "    <tr>\n",
              "      <th>6</th>\n",
              "      <td>-0.039038</td>\n",
              "      <td>0.009225</td>\n",
              "      <td>0.544651</td>\n",
              "      <td>0.130555</td>\n",
              "      <td>-0.005560</td>\n",
              "      <td>-0.011617</td>\n",
              "    </tr>\n",
              "    <tr>\n",
              "      <th>7</th>\n",
              "      <td>0.214763</td>\n",
              "      <td>-0.081616</td>\n",
              "      <td>-0.636035</td>\n",
              "      <td>-0.071140</td>\n",
              "      <td>-0.138291</td>\n",
              "      <td>0.321296</td>\n",
              "    </tr>\n",
              "    <tr>\n",
              "      <th>8</th>\n",
              "      <td>0.278485</td>\n",
              "      <td>-0.179717</td>\n",
              "      <td>-0.536030</td>\n",
              "      <td>-0.102143</td>\n",
              "      <td>0.022109</td>\n",
              "      <td>0.155294</td>\n",
              "    </tr>\n",
              "    <tr>\n",
              "      <th>9</th>\n",
              "      <td>0.019199</td>\n",
              "      <td>-0.580768</td>\n",
              "      <td>0.048803</td>\n",
              "      <td>-0.179910</td>\n",
              "      <td>-0.075236</td>\n",
              "      <td>0.085471</td>\n",
              "    </tr>\n",
              "    <tr>\n",
              "      <th>10</th>\n",
              "      <td>0.227095</td>\n",
              "      <td>-0.674206</td>\n",
              "      <td>-0.085579</td>\n",
              "      <td>-0.206694</td>\n",
              "      <td>-0.054706</td>\n",
              "      <td>0.063190</td>\n",
              "    </tr>\n",
              "    <tr>\n",
              "      <th>11</th>\n",
              "      <td>-0.000825</td>\n",
              "      <td>0.478874</td>\n",
              "      <td>0.088453</td>\n",
              "      <td>0.323677</td>\n",
              "      <td>0.263773</td>\n",
              "      <td>0.249118</td>\n",
              "    </tr>\n",
              "    <tr>\n",
              "      <th>12</th>\n",
              "      <td>-0.133973</td>\n",
              "      <td>0.588949</td>\n",
              "      <td>0.099309</td>\n",
              "      <td>0.392406</td>\n",
              "      <td>-0.082183</td>\n",
              "      <td>0.166186</td>\n",
              "    </tr>\n",
              "    <tr>\n",
              "      <th>13</th>\n",
              "      <td>0.036820</td>\n",
              "      <td>0.483700</td>\n",
              "      <td>0.302755</td>\n",
              "      <td>0.176192</td>\n",
              "      <td>0.212050</td>\n",
              "      <td>0.031346</td>\n",
              "    </tr>\n",
              "    <tr>\n",
              "      <th>14</th>\n",
              "      <td>0.809298</td>\n",
              "      <td>0.093333</td>\n",
              "      <td>-0.051441</td>\n",
              "      <td>-0.147410</td>\n",
              "      <td>-0.075815</td>\n",
              "      <td>-0.075644</td>\n",
              "    </tr>\n",
              "    <tr>\n",
              "      <th>15</th>\n",
              "      <td>0.795904</td>\n",
              "      <td>0.044104</td>\n",
              "      <td>-0.036145</td>\n",
              "      <td>-0.135576</td>\n",
              "      <td>0.008684</td>\n",
              "      <td>-0.126310</td>\n",
              "    </tr>\n",
              "    <tr>\n",
              "      <th>16</th>\n",
              "      <td>0.723908</td>\n",
              "      <td>-0.084188</td>\n",
              "      <td>-0.060575</td>\n",
              "      <td>-0.006780</td>\n",
              "      <td>-0.003511</td>\n",
              "      <td>0.059165</td>\n",
              "    </tr>\n",
              "    <tr>\n",
              "      <th>17</th>\n",
              "      <td>0.570719</td>\n",
              "      <td>-0.361460</td>\n",
              "      <td>-0.157524</td>\n",
              "      <td>-0.045826</td>\n",
              "      <td>0.059587</td>\n",
              "      <td>0.130283</td>\n",
              "    </tr>\n",
              "    <tr>\n",
              "      <th>18</th>\n",
              "      <td>0.519325</td>\n",
              "      <td>-0.185064</td>\n",
              "      <td>-0.025447</td>\n",
              "      <td>0.076302</td>\n",
              "      <td>-0.157586</td>\n",
              "      <td>0.120044</td>\n",
              "    </tr>\n",
              "    <tr>\n",
              "      <th>19</th>\n",
              "      <td>-0.022047</td>\n",
              "      <td>0.193178</td>\n",
              "      <td>0.126755</td>\n",
              "      <td>0.075960</td>\n",
              "      <td>0.483562</td>\n",
              "      <td>0.204219</td>\n",
              "    </tr>\n",
              "    <tr>\n",
              "      <th>20</th>\n",
              "      <td>0.154813</td>\n",
              "      <td>-0.026243</td>\n",
              "      <td>-0.091528</td>\n",
              "      <td>0.089875</td>\n",
              "      <td>-0.486718</td>\n",
              "      <td>0.131665</td>\n",
              "    </tr>\n",
              "    <tr>\n",
              "      <th>21</th>\n",
              "      <td>0.008904</td>\n",
              "      <td>0.280799</td>\n",
              "      <td>0.094109</td>\n",
              "      <td>0.137806</td>\n",
              "      <td>0.577520</td>\n",
              "      <td>0.230671</td>\n",
              "    </tr>\n",
              "    <tr>\n",
              "      <th>22</th>\n",
              "      <td>0.199213</td>\n",
              "      <td>-0.217308</td>\n",
              "      <td>-0.003035</td>\n",
              "      <td>0.095423</td>\n",
              "      <td>0.351666</td>\n",
              "      <td>0.155132</td>\n",
              "    </tr>\n",
              "    <tr>\n",
              "      <th>23</th>\n",
              "      <td>0.064632</td>\n",
              "      <td>-0.007330</td>\n",
              "      <td>-0.045753</td>\n",
              "      <td>-0.013793</td>\n",
              "      <td>-0.589548</td>\n",
              "      <td>0.167939</td>\n",
              "    </tr>\n",
              "  </tbody>\n",
              "</table>\n",
              "</div>"
            ],
            "text/plain": [
              "           0         1         2         3         4         5\n",
              "0   0.019593  0.129682  0.109792  0.648858  0.093491 -0.084924\n",
              "1  -0.017662  0.203330  0.082358  0.705688  0.076944  0.032217\n",
              "2  -0.084078  0.126836  0.209346  0.479331 -0.096146 -0.005851\n",
              "3  -0.155395  0.292209  0.076372  0.589693  0.068895  0.145131\n",
              "4  -0.004557  0.060016  0.559406  0.047516  0.190223  0.111183\n",
              "5   0.065548  0.005585  0.676102  0.112069  0.085346  0.156104\n",
              "6  -0.039038  0.009225  0.544651  0.130555 -0.005560 -0.011617\n",
              "7   0.214763 -0.081616 -0.636035 -0.071140 -0.138291  0.321296\n",
              "8   0.278485 -0.179717 -0.536030 -0.102143  0.022109  0.155294\n",
              "9   0.019199 -0.580768  0.048803 -0.179910 -0.075236  0.085471\n",
              "10  0.227095 -0.674206 -0.085579 -0.206694 -0.054706  0.063190\n",
              "11 -0.000825  0.478874  0.088453  0.323677  0.263773  0.249118\n",
              "12 -0.133973  0.588949  0.099309  0.392406 -0.082183  0.166186\n",
              "13  0.036820  0.483700  0.302755  0.176192  0.212050  0.031346\n",
              "14  0.809298  0.093333 -0.051441 -0.147410 -0.075815 -0.075644\n",
              "15  0.795904  0.044104 -0.036145 -0.135576  0.008684 -0.126310\n",
              "16  0.723908 -0.084188 -0.060575 -0.006780 -0.003511  0.059165\n",
              "17  0.570719 -0.361460 -0.157524 -0.045826  0.059587  0.130283\n",
              "18  0.519325 -0.185064 -0.025447  0.076302 -0.157586  0.120044\n",
              "19 -0.022047  0.193178  0.126755  0.075960  0.483562  0.204219\n",
              "20  0.154813 -0.026243 -0.091528  0.089875 -0.486718  0.131665\n",
              "21  0.008904  0.280799  0.094109  0.137806  0.577520  0.230671\n",
              "22  0.199213 -0.217308 -0.003035  0.095423  0.351666  0.155132\n",
              "23  0.064632 -0.007330 -0.045753 -0.013793 -0.589548  0.167939"
            ]
          },
          "metadata": {
            "tags": []
          },
          "execution_count": 44
        }
      ]
    },
    {
      "cell_type": "code",
      "metadata": {
        "id": "7JGqCZ61G2zv",
        "colab_type": "code",
        "colab": {}
      },
      "source": [
        "ev, v = fa.get_eigenvalues()"
      ],
      "execution_count": null,
      "outputs": []
    },
    {
      "cell_type": "code",
      "metadata": {
        "id": "3AG5AvXhHBbT",
        "colab_type": "code",
        "colab": {
          "base_uri": "https://localhost:8080/",
          "height": 104
        },
        "outputId": "916d06a8-7d80-49b9-97a2-0d42ce6845af"
      },
      "source": [
        "ev"
      ],
      "execution_count": null,
      "outputs": [
        {
          "output_type": "execute_result",
          "data": {
            "text/plain": [
              "array([5.08092085, 2.74459613, 2.1304715 , 1.85166008, 1.37255602,\n",
              "       0.95495549, 0.81706596, 0.79947803, 0.71165481, 0.68367205,\n",
              "       0.66388814, 0.64249178, 0.59548761, 0.5646522 , 0.56130638,\n",
              "       0.522671  , 0.50606487, 0.48864688, 0.44897785, 0.4230324 ,\n",
              "       0.40315599, 0.38836649, 0.3811952 , 0.26303227])"
            ]
          },
          "metadata": {
            "tags": []
          },
          "execution_count": 46
        }
      ]
    },
    {
      "cell_type": "code",
      "metadata": {
        "id": "LJK3X06sHLkd",
        "colab_type": "code",
        "colab": {
          "base_uri": "https://localhost:8080/",
          "height": 121
        },
        "outputId": "45870cba-2eee-4616-9b6c-783b2e0f6d8e"
      },
      "source": [
        "v"
      ],
      "execution_count": null,
      "outputs": [
        {
          "output_type": "execute_result",
          "data": {
            "text/plain": [
              "array([ 4.46875912e+00,  2.18680032e+00,  1.46827146e+00,  1.06901254e+00,\n",
              "        7.27235461e-01,  2.53243714e-01,  1.63937187e-01,  9.50627727e-02,\n",
              "        2.62125175e-02,  3.77849106e-03, -1.23037055e-02, -6.19875596e-02,\n",
              "       -8.14053341e-02, -1.01551121e-01, -1.19736816e-01, -1.31363874e-01,\n",
              "       -1.68725050e-01, -1.81191741e-01, -1.99899892e-01, -2.14267137e-01,\n",
              "       -2.39210078e-01, -2.64349754e-01, -2.77010939e-01, -2.85479627e-01])"
            ]
          },
          "metadata": {
            "tags": []
          },
          "execution_count": 35
        }
      ]
    },
    {
      "cell_type": "code",
      "metadata": {
        "id": "Ysx7mp35NjRQ",
        "colab_type": "code",
        "colab": {
          "base_uri": "https://localhost:8080/",
          "height": 35
        },
        "outputId": "c06f8bf5-a229-4035-a176-d29e978061de"
      },
      "source": [
        "import numpy as np\n",
        "4.46875912e+00 * np.sqrt(5.08092085)"
      ],
      "execution_count": null,
      "outputs": [
        {
          "output_type": "execute_result",
          "data": {
            "text/plain": [
              "10.072984374379132"
            ]
          },
          "metadata": {
            "tags": []
          },
          "execution_count": 50
        }
      ]
    },
    {
      "cell_type": "markdown",
      "metadata": {
        "id": "WBLdFmasHS5K",
        "colab_type": "text"
      },
      "source": [
        "### Scree Plot"
      ]
    },
    {
      "cell_type": "code",
      "metadata": {
        "id": "kWkCSbaYHUYV",
        "colab_type": "code",
        "colab": {}
      },
      "source": [
        "xvals = range(1,df.shape[1]+1)"
      ],
      "execution_count": null,
      "outputs": []
    },
    {
      "cell_type": "code",
      "metadata": {
        "id": "sATd7akjHkER",
        "colab_type": "code",
        "colab": {
          "base_uri": "https://localhost:8080/",
          "height": 297
        },
        "outputId": "12eac865-e712-4afc-8736-1cf4ebf2eabc"
      },
      "source": [
        "plt.scatter(xvals,ev)\n",
        "plt.plot(xvals,ev)\n",
        "plt.xlabel(\"Factors\")\n",
        "plt.ylabel(\"Eigen Values\")"
      ],
      "execution_count": null,
      "outputs": [
        {
          "output_type": "execute_result",
          "data": {
            "text/plain": [
              "Text(0, 0.5, 'Eigen Values')"
            ]
          },
          "metadata": {
            "tags": []
          },
          "execution_count": 40
        },
        {
          "output_type": "display_data",
          "data": {
            "image/png": "[encoded data removed]",
            "text/plain": [
              "<Figure size 432x288 with 1 Axes>"
            ]
          },
          "metadata": {
            "tags": [],
            "needs_background": "light"
          }
        }
      ]
    },
    {
      "cell_type": "markdown",
      "metadata": {
        "id": "hQSu00tKRwMV",
        "colab_type": "text"
      },
      "source": [
        "https://stats.idre.ucla.edu/spss/seminars/introduction-to-factor-analysis/a-practical-introduction-to-factor-analysis/"
      ]
    },
    {
      "cell_type": "code",
      "metadata": {
        "id": "cqit-TXmH3up",
        "colab_type": "code",
        "colab": {}
      },
      "source": [
        "from factor_analyzer import (ConfirmatoryFactorAnalyzer, ModelSpecificationParser)    \n",
        "\n",
        "model_dict = {\"F1\": [\"V1\", \"V2\", \"V3\", \"V4\"], \"F2\": [\"V5\", \"V6\", \"V7\", \"V8\"]}\n",
        "\n",
        "model_spec = ModelSpecificationParser.parse_model_specification_from_dict(df, model_dict)\n",
        "\n",
        "cfa = ConfirmatoryFactorAnalyzer(model_spec, disp=False) \n",
        "\n",
        "cfa.fit(df.values) \n",
        "\n",
        "cfa.loadings_ "
      ],
      "execution_count": null,
      "outputs": []
    }
  ]
}